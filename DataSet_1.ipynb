{
 "cells": [
  {
   "cell_type": "markdown",
   "id": "0ce2fdc2",
   "metadata": {},
   "source": [
    "# 필요한 패키지 임포트"
   ]
  },
  {
   "cell_type": "code",
   "execution_count": 76,
   "id": "f6278467",
   "metadata": {},
   "outputs": [],
   "source": [
    "import os\n",
    "import pandas as pd\n",
    "import numpy as np\n",
    "import matplotlib.pyplot as plt\n",
    "from PIL import Image\n",
    "\n",
    "import warnings\n",
    "warnings.filterwarnings('ignore')"
   ]
  },
  {
   "cell_type": "markdown",
   "id": "c8ca2879",
   "metadata": {},
   "source": [
    "# 데이터 확인"
   ]
  },
  {
   "cell_type": "code",
   "execution_count": 77,
   "id": "472da00f",
   "metadata": {},
   "outputs": [
    {
     "data": {
      "text/html": [
       "<div>\n",
       "<style scoped>\n",
       "    .dataframe tbody tr th:only-of-type {\n",
       "        vertical-align: middle;\n",
       "    }\n",
       "\n",
       "    .dataframe tbody tr th {\n",
       "        vertical-align: top;\n",
       "    }\n",
       "\n",
       "    .dataframe thead th {\n",
       "        text-align: right;\n",
       "    }\n",
       "</style>\n",
       "<table border=\"1\" class=\"dataframe\">\n",
       "  <thead>\n",
       "    <tr style=\"text-align: right;\">\n",
       "      <th></th>\n",
       "      <th>index</th>\n",
       "      <th>file_name</th>\n",
       "      <th>class</th>\n",
       "      <th>state</th>\n",
       "      <th>label</th>\n",
       "    </tr>\n",
       "  </thead>\n",
       "  <tbody>\n",
       "    <tr>\n",
       "      <th>0</th>\n",
       "      <td>0</td>\n",
       "      <td>10000.png</td>\n",
       "      <td>transistor</td>\n",
       "      <td>good</td>\n",
       "      <td>transistor-good</td>\n",
       "    </tr>\n",
       "    <tr>\n",
       "      <th>1</th>\n",
       "      <td>1</td>\n",
       "      <td>10001.png</td>\n",
       "      <td>capsule</td>\n",
       "      <td>good</td>\n",
       "      <td>capsule-good</td>\n",
       "    </tr>\n",
       "    <tr>\n",
       "      <th>2</th>\n",
       "      <td>2</td>\n",
       "      <td>10002.png</td>\n",
       "      <td>transistor</td>\n",
       "      <td>good</td>\n",
       "      <td>transistor-good</td>\n",
       "    </tr>\n",
       "    <tr>\n",
       "      <th>3</th>\n",
       "      <td>3</td>\n",
       "      <td>10003.png</td>\n",
       "      <td>wood</td>\n",
       "      <td>good</td>\n",
       "      <td>wood-good</td>\n",
       "    </tr>\n",
       "    <tr>\n",
       "      <th>4</th>\n",
       "      <td>4</td>\n",
       "      <td>10004.png</td>\n",
       "      <td>bottle</td>\n",
       "      <td>good</td>\n",
       "      <td>bottle-good</td>\n",
       "    </tr>\n",
       "  </tbody>\n",
       "</table>\n",
       "</div>"
      ],
      "text/plain": [
       "   index  file_name       class state            label\n",
       "0      0  10000.png  transistor  good  transistor-good\n",
       "1      1  10001.png     capsule  good     capsule-good\n",
       "2      2  10002.png  transistor  good  transistor-good\n",
       "3      3  10003.png        wood  good        wood-good\n",
       "4      4  10004.png      bottle  good      bottle-good"
      ]
     },
     "execution_count": 77,
     "metadata": {},
     "output_type": "execute_result"
    }
   ],
   "source": [
    "train_df = pd.read_csv('./data/train_df.csv')\n",
    "train_df.head()"
   ]
  },
  {
   "cell_type": "markdown",
   "id": "fd013187",
   "metadata": {},
   "source": [
    "# 이미지 종류별로 분류하여 저장"
   ]
  },
  {
   "cell_type": "code",
   "execution_count": 78,
   "id": "f0beaad9",
   "metadata": {},
   "outputs": [],
   "source": [
    "filepath = \"./data/train/train\"  \n",
    "\n",
    "classes = os.listdir(filepath)\n",
    "\n",
    "# 색상 저장할 상위 폴더\n",
    "dir_path = './data_train_class'\n",
    "\n",
    "# dir_path 폴더 없으면 생성\n",
    "if os.path.isdir(dir_path) == False:\n",
    "    os.mkdir(dir_path)\n",
    "\n",
    "for i, cls in enumerate(classes):\n",
    "    \n",
    "    image = Image.open(filepath + '/' + cls)\n",
    "    \n",
    "    filter1 = (train_df['file_name'] == cls)\n",
    "    df = train_df[filter1]\n",
    "    class1 = df['class'].values[0]\n",
    "\n",
    "    # 클래스별 폴더 경로\n",
    "    folder_path = dir_path + '/' + class1\n",
    "\n",
    "    # 폴더 없으면 생성\n",
    "    if os.path.isdir(folder_path) == False:\n",
    "        os.mkdir(folder_path)\n",
    "\n",
    "    # 이미지 폴더에 저장\n",
    "    image.save(folder_path + '/' + cls, format = None)"
   ]
  },
  {
   "cell_type": "code",
   "execution_count": null,
   "id": "b6b1ea2c",
   "metadata": {},
   "outputs": [],
   "source": []
  }
 ],
 "metadata": {
  "kernelspec": {
   "display_name": "Python 3 (ipykernel)",
   "language": "python",
   "name": "python3"
  },
  "language_info": {
   "codemirror_mode": {
    "name": "ipython",
    "version": 3
   },
   "file_extension": ".py",
   "mimetype": "text/x-python",
   "name": "python",
   "nbconvert_exporter": "python",
   "pygments_lexer": "ipython3",
   "version": "3.8.1"
  }
 },
 "nbformat": 4,
 "nbformat_minor": 5
}
